{
  "nbformat": 4,
  "nbformat_minor": 0,
  "metadata": {
    "colab": {
      "name": "root_ai.ipynb",
      "provenance": [],
      "collapsed_sections": []
    },
    "kernelspec": {
      "name": "python3",
      "display_name": "Python 3"
    },
    "language_info": {
      "name": "python"
    },
    "accelerator": "GPU"
  },
  "cells": [
    {
      "cell_type": "code",
      "metadata": {
        "colab": {
          "base_uri": "https://localhost:8080/"
        },
        "id": "XhFIdT_H4toG",
        "outputId": "2ca0f373-f5aa-4bf6-8f94-6dec5a7c4fde"
      },
      "source": [
        "!git clone https://github.com/matterport/Mask_RCNN.git"
      ],
      "execution_count": null,
      "outputs": [
        {
          "output_type": "stream",
          "text": [
            "Cloning into 'Mask_RCNN'...\n",
            "remote: Enumerating objects: 956, done.\u001b[K\n",
            "remote: Total 956 (delta 0), reused 0 (delta 0), pack-reused 956\u001b[K\n",
            "Receiving objects: 100% (956/956), 125.23 MiB | 39.04 MiB/s, done.\n",
            "Resolving deltas: 100% (562/562), done.\n"
          ],
          "name": "stdout"
        }
      ]
    },
    {
      "cell_type": "code",
      "metadata": {
        "id": "S0IR7OgIG5Ms",
        "colab": {
          "base_uri": "https://localhost:8080/"
        },
        "outputId": "96cb618f-4e61-4a16-9cf1-8afe4374e9b8"
      },
      "source": [
        "%tensorflow_version 1.x\n",
        "!pip3 install h5py==2.10.0\n",
        "import requests\n",
        "import os\n",
        "import sys\n",
        "import math\n",
        "import numpy as np\n",
        "import skimage.io\n",
        "import matplotlib\n",
        "import matplotlib.pyplot as plt\n",
        "import tensorflow\n",
        "import cv2\n",
        "from google.colab.patches import cv2_imshow"
      ],
      "execution_count": null,
      "outputs": [
        {
          "output_type": "stream",
          "text": [
            "TensorFlow 1.x selected.\n",
            "Requirement already satisfied: h5py==2.10.0 in /usr/local/lib/python3.7/dist-packages (2.10.0)\n",
            "Requirement already satisfied: numpy>=1.7 in /usr/local/lib/python3.7/dist-packages (from h5py==2.10.0) (1.19.5)\n",
            "Requirement already satisfied: six in /usr/local/lib/python3.7/dist-packages (from h5py==2.10.0) (1.15.0)\n"
          ],
          "name": "stdout"
        }
      ]
    },
    {
      "cell_type": "code",
      "metadata": {
        "id": "YUrarEBM9jo4",
        "colab": {
          "base_uri": "https://localhost:8080/"
        },
        "outputId": "87833ddb-ce13-4855-ad55-822d2c1bf835"
      },
      "source": [
        "# Root directory of the project\n",
        "ROOT_DIR = os.path.abspath(\"/content/Mask_RCNN\")\n",
        "\n",
        "# Import Mask RCNN\n",
        "sys.path.append(ROOT_DIR)  # To find local version of the library\n",
        "from mrcnn import utils\n",
        "import mrcnn.model as modellib\n",
        "from mrcnn import visualize\n",
        "# Import COCO config\n",
        "sys.path.append(os.path.join(ROOT_DIR, \"samples/coco/\"))  # To find local version\n",
        "import coco\n",
        "\n",
        "%matplotlib inline \n",
        "\n",
        "# Directory to save logs and trained model\n",
        "MODEL_DIR = os.path.join(ROOT_DIR, \"logs\")\n",
        "\n",
        "# Local path to trained weights file\n",
        "COCO_MODEL_PATH = os.path.join(ROOT_DIR, \"mask_rcnn_coco.h5\")\n",
        "# Download COCO trained weights from Releases if needed\n",
        "if not os.path.exists(COCO_MODEL_PATH):\n",
        "    utils.download_trained_weights(COCO_MODEL_PATH)\n",
        "\n",
        "# Directory of images to run detection on\n",
        "IMAGE_DIR = os.path.join(ROOT_DIR, \"/content/foodimages\")\n",
        "\n",
        "class InferenceConfig(coco.CocoConfig):\n",
        "    # Set batch size to 1 since we'll be running inference on\n",
        "    # one image at a time. Batch size = GPU_COUNT * IMAGES_PER_GPU\n",
        "    GPU_COUNT = 1\n",
        "    IMAGES_PER_GPU = 1\n",
        "\n",
        "config = InferenceConfig()\n",
        "#config.display()\n",
        "\n",
        "# COCO Class names\n",
        "# Index of the class in the list is its ID. For example, to get ID of\n",
        "# the teddy bear class, use: class_names.index('teddy bear')\n",
        "class_names = ['BG', 'person', 'bicycle', 'car', 'motorcycle', 'airplane',\n",
        "               'bus', 'train', 'truck', 'boat', 'traffic light',\n",
        "               'fire hydrant', 'stop sign', 'parking meter', 'bench', 'bird',\n",
        "               'cat', 'dog', 'horse', 'sheep', 'cow', 'elephant', 'bear',\n",
        "               'zebra', 'giraffe', 'backpack', 'umbrella', 'handbag', 'tie',\n",
        "               'suitcase', 'frisbee', 'skis', 'snowboard', 'sports ball',\n",
        "               'kite', 'baseball bat', 'baseball glove', 'skateboard',\n",
        "               'surfboard', 'tennis racket', 'bottle', 'wine glass', 'cup',\n",
        "               'fork', 'knife', 'spoon', 'bowl', 'banana', 'apple',\n",
        "               'sandwich', 'orange', 'broccoli', 'carrot', 'hot dog', 'pizza',\n",
        "               'donut', 'cake', 'chair', 'couch', 'potted plant', 'bed',\n",
        "               'dining table', 'toilet', 'tv', 'laptop', 'mouse', 'remote',\n",
        "               'keyboard', 'cell phone', 'microwave', 'oven', 'toaster',\n",
        "               'sink', 'refrigerator', 'book', 'clock', 'vase', 'scissors',\n",
        "               'teddy bear', 'hair drier', 'toothbrush']"
      ],
      "execution_count": null,
      "outputs": [
        {
          "output_type": "stream",
          "text": [
            "Using TensorFlow backend.\n"
          ],
          "name": "stderr"
        }
      ]
    },
    {
      "cell_type": "code",
      "metadata": {
        "id": "to7Z1Pj593fM",
        "colab": {
          "base_uri": "https://localhost:8080/"
        },
        "outputId": "89618dd7-d64b-40ff-92a9-1c626805e4a3"
      },
      "source": [
        "# Create model object in inference mode.\n",
        "model = modellib.MaskRCNN(mode=\"inference\", model_dir=MODEL_DIR, config=config)\n",
        "\n",
        "# Load weights trained on MS-COCO\n",
        "model.load_weights(COCO_MODEL_PATH, by_name=True)"
      ],
      "execution_count": null,
      "outputs": [
        {
          "output_type": "stream",
          "text": [
            "WARNING:tensorflow:From /tensorflow-1.15.2/python3.7/tensorflow_core/python/ops/resource_variable_ops.py:1630: calling BaseResourceVariable.__init__ (from tensorflow.python.ops.resource_variable_ops) with constraint is deprecated and will be removed in a future version.\n",
            "Instructions for updating:\n",
            "If using Keras pass *_constraint arguments to layers.\n",
            "WARNING:tensorflow:From /tensorflow-1.15.2/python3.7/keras/backend/tensorflow_backend.py:4070: The name tf.nn.max_pool is deprecated. Please use tf.nn.max_pool2d instead.\n",
            "\n",
            "WARNING:tensorflow:From /content/Mask_RCNN/mrcnn/model.py:341: The name tf.log is deprecated. Please use tf.math.log instead.\n",
            "\n",
            "WARNING:tensorflow:From /content/Mask_RCNN/mrcnn/model.py:399: where (from tensorflow.python.ops.array_ops) is deprecated and will be removed in a future version.\n",
            "Instructions for updating:\n",
            "Use tf.where in 2.0, which has the same broadcast rule as np.where\n",
            "WARNING:tensorflow:From /content/Mask_RCNN/mrcnn/model.py:423: calling crop_and_resize_v1 (from tensorflow.python.ops.image_ops_impl) with box_ind is deprecated and will be removed in a future version.\n",
            "Instructions for updating:\n",
            "box_ind is deprecated, use box_indices instead\n",
            "WARNING:tensorflow:From /content/Mask_RCNN/mrcnn/model.py:720: The name tf.sets.set_intersection is deprecated. Please use tf.sets.intersection instead.\n",
            "\n",
            "WARNING:tensorflow:From /content/Mask_RCNN/mrcnn/model.py:722: The name tf.sparse_tensor_to_dense is deprecated. Please use tf.sparse.to_dense instead.\n",
            "\n",
            "WARNING:tensorflow:From /content/Mask_RCNN/mrcnn/model.py:772: to_float (from tensorflow.python.ops.math_ops) is deprecated and will be removed in a future version.\n",
            "Instructions for updating:\n",
            "Use `tf.cast` instead.\n"
          ],
          "name": "stdout"
        }
      ]
    },
    {
      "cell_type": "code",
      "metadata": {
        "id": "yUSotG1d9764",
        "colab": {
          "base_uri": "https://localhost:8080/"
        },
        "outputId": "dd448578-93d5-4eb2-d41e-781f2af3ca84"
      },
      "source": [
        "# Load an image from the images folder\n",
        "#file_names = next(os.walk(IMAGE_DIR))[2]\n",
        "file_name = \"/content/foodimages/food.jpg\"\n",
        "image = skimage.io.imread(file_name)\n",
        "\n",
        "# Run detection\n",
        "results = model.detect([image], verbose=1)\n",
        "\n",
        "# Visualize results\n",
        "r = results[0]"
      ],
      "execution_count": null,
      "outputs": [
        {
          "output_type": "stream",
          "text": [
            "Processing 1 images\n",
            "image                    shape: (500, 500, 3)         min:    0.00000  max:  255.00000  uint8\n",
            "molded_images            shape: (1, 1024, 1024, 3)    min: -123.70000  max:  151.10000  float64\n",
            "image_metas              shape: (1, 93)               min:    0.00000  max: 1024.00000  float64\n",
            "anchors                  shape: (1, 261888, 4)        min:   -0.35390  max:    1.29134  float32\n",
            "WARNING:tensorflow:From /tensorflow-1.15.2/python3.7/keras/backend/tensorflow_backend.py:422: The name tf.global_variables is deprecated. Please use tf.compat.v1.global_variables instead.\n",
            "\n"
          ],
          "name": "stdout"
        }
      ]
    },
    {
      "cell_type": "code",
      "metadata": {
        "colab": {
          "base_uri": "https://localhost:8080/"
        },
        "id": "zpAGJkKDh8m_",
        "outputId": "7c6e96e4-c308-463b-ae0f-b627fbf6ca8a"
      },
      "source": [
        "api_user_token = 'feb16a6f08967f1fbad8952bb0293e1454f24ce6'\n",
        "headers = {'Authorization': 'Bearer ' + api_user_token}\n",
        "# Single Dishes Detection\n",
        "url = 'https://api.logmeal.es/v2/recognition/dish'\n",
        "\n",
        "limit=10\n",
        "from PIL import Image\n",
        "from os import path\n",
        "\n",
        "for n in range(limit):\n",
        "  if (path.exists(str(n) + \".jpg\")):\n",
        "    os.remove(str(n) + \".jpg\")\n",
        "\n",
        "img = cv2.imread(file_name)\n",
        "#cv2_imshow(img)\n",
        "mask = r['masks']\n",
        "class_ids= r['class_ids']\n",
        "class_names=None\n",
        "\n",
        "# Pick top prominent classes in this image\n",
        "unique_class_ids = np.unique(class_ids)\n",
        "mask_area = [np.sum(mask[:, :, np.where(class_ids == i)[0]])\n",
        "              for i in unique_class_ids]\n",
        "top_ids = [v[0] for v in sorted(zip(unique_class_ids, mask_area),\n",
        "                                key=lambda r: r[1], reverse=True) if v[1] > 0]\n",
        "# Generate images and titles\n",
        "\n",
        "for i in range(1, limit):\n",
        "  if i<len(top_ids):\n",
        "    class_id = top_ids[i]\n",
        "    # Pull masks of instances belonging to the same class.\n",
        "    m = mask[:, :, np.where(class_ids == class_id)[0]]\n",
        "    m = np.sum(m * np.arange(1, m.shape[-1] + 1), -1)\n",
        "    copy = np.zeros((len(img), len(img[0]), 3), dtype=np.uint8)\n",
        "    for row in range(len(m)):\n",
        "      for c in range(len(m[0])):\n",
        "        if m[row][c]==1:\n",
        "          copy[row][c]=[255, 255, 255]\n",
        "\n",
        "    result = cv2.bitwise_and(img, copy)\n",
        "    result[m==0] = 255\n",
        "    for row in range(len(result)):\n",
        "      for c in range(len(result[0])):\n",
        "        if all(result[row][c] == [255, 255, 255]) == False:\n",
        "          result[row][c] = img[row][c]\n",
        "    cv2_imshow(result)\n",
        "    cv2.imwrite('/content/' + str(i) + '.jpg', result)\n",
        "\n",
        "    imgpath = '/content/' + str(i) + '.jpg'\n",
        "    resp = requests.post(url,files={'image': open(imgpath, 'rb')}, headers=headers)\n",
        "    try:\n",
        "      data = (resp.json()[\"recognition_results\"]) # display dish only\n",
        "    except:\n",
        "      print(\"Likely not a food\")\n",
        "    else:\n",
        "      grayimg = cv2.imread(os.path.join(ROOT_DIR, file_name), cv2.IMREAD_GRAYSCALE)\n",
        "      grayresult = cv2.imread(imgpath, cv2.IMREAD_GRAYSCALE)\n",
        "      numOgNonWhitePix = len(grayimg) * len(grayimg[0]) - np.sum(grayimg == 255)\n",
        "      numResultNonWhitePix = len(grayimg) * len(grayimg[0]) - np.sum(grayresult == 255)\n",
        "      fraction = numResultNonWhitePix/numOgNonWhitePix\n",
        "      foods = []\n",
        "      for i in range(len(data)):\n",
        "        foods.append([data[i]['name'], fraction])\n",
        "      print(foods)\n"
      ],
      "execution_count": null,
      "outputs": [
        {
          "output_type": "stream",
          "text": [
            "[['grilled chicken', 0.2228455874727782], ['icetea', 0.2228455874727782], ['grilled turkey', 0.2228455874727782], ['pineapple juice', 0.2228455874727782], ['orange soda', 0.2228455874727782], ['stuffed eggplant', 0.2228455874727782]]\n",
            "Likely not a food\n"
          ],
          "name": "stdout"
        }
      ]
    },
    {
      "cell_type": "markdown",
      "metadata": {
        "id": "FWx89y77fzRt"
      },
      "source": [
        "python3 version: 3.7\n",
        "\n",
        "> click and run the file called command certificates or smth\n",
        "\n",
        "tensorflow version: 1.13.2\n",
        "\n",
        "> download *tensorflow-1.11.0-cp27-cp27m-macosx_10_11_x86_64.whl*\n",
        "\n",
        "h5py version: 2.10.0"
      ]
    },
    {
      "cell_type": "code",
      "metadata": {
        "id": "ngmgKMWmHeTH"
      },
      "source": [
        "'''\n",
        "    resp = requests.post(url,files={'image': open(imgpath, 'rb')}, headers=headers)\n",
        "    try:\n",
        "      data = (resp.json()[\"recognition_results\"]) # display dish only\n",
        "    except:\n",
        "      print(\"An exception occurred, likely not a food\")\n",
        "    else:\n",
        "      foods = []\n",
        "      for i in range(len(data)):\n",
        "        foods.append(data[i]['name'])\n",
        "      print(foods)\n",
        "      edited = cv2.cvtColor(result, cv2.COLOR_BGR2HSV)\n",
        "      thresh = cv2.inRange(edited, (0,0,0), (254,254,254));\n",
        "      contours = cv2.findContours(thresh, cv2.RETR_EXTERNAL, cv2.CHAIN_APPROX_SIMPLE)\n",
        "      contours = contours[0] if len(contours) == 2 else contours[1]\n",
        "      cntr = max(contours, key=cv2.contourArea)\n",
        "      cntr = cntr[1::3]\n",
        "      for c in range(len(cntr)):\n",
        "        cntr[c] = cntr[c].flatten()\n",
        "      if (i==0):\n",
        "        info[\"shapes\"].append({\n",
        "            'label': \"plate\",\n",
        "            'points': cntr.tolist()\n",
        "        })\n",
        "      else:\n",
        "        info[\"shapes\"].append({\n",
        "            'label': i,\n",
        "            'points': cntr.tolist()\n",
        "        })\n",
        "\n",
        "with open('data.json', 'w') as outfile:\n",
        "    json.dump(info, outfile)\n",
        "'''"
      ],
      "execution_count": null,
      "outputs": []
    }
  ]
}